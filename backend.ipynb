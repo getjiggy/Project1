{
 "cells": [
  {
   "cell_type": "code",
   "execution_count": 23,
   "id": "ce5bfb9b",
   "metadata": {},
   "outputs": [
    {
     "name": "stdout",
     "output_type": "stream",
     "text": [
      "<class 'NoneType'>\n",
      "- : No data found for this date range, symbol may be delisted\n"
     ]
    },
    {
     "data": {},
     "metadata": {},
     "output_type": "display_data"
    },
    {
     "data": {},
     "metadata": {},
     "output_type": "display_data"
    },
    {
     "data": {
      "application/vnd.holoviews_exec.v0+json": "",
      "text/html": [
       "<div id='6267'>\n",
       "\n",
       "\n",
       "\n",
       "\n",
       "\n",
       "  <div class=\"bk-root\" id=\"cf84fb83-4f5b-4879-93bd-a1de58875ded\" data-root-id=\"6267\"></div>\n",
       "</div>\n",
       "<script type=\"application/javascript\">(function(root) {\n",
       "  function embed_document(root) {\n",
       "    var docs_json = {\"a9a82590-9f0e-4a2e-b7ab-628103316492\":{\"defs\":[{\"extends\":null,\"module\":null,\"name\":\"ReactiveHTML1\",\"overrides\":[],\"properties\":[]},{\"extends\":null,\"module\":null,\"name\":\"FlexBox1\",\"overrides\":[],\"properties\":[{\"default\":\"flex-start\",\"kind\":null,\"name\":\"align_content\"},{\"default\":\"flex-start\",\"kind\":null,\"name\":\"align_items\"},{\"default\":\"row\",\"kind\":null,\"name\":\"flex_direction\"},{\"default\":\"wrap\",\"kind\":null,\"name\":\"flex_wrap\"},{\"default\":\"flex-start\",\"kind\":null,\"name\":\"justify_content\"}]},{\"extends\":null,\"module\":null,\"name\":\"TemplateActions1\",\"overrides\":[],\"properties\":[{\"default\":0,\"kind\":null,\"name\":\"open_modal\"},{\"default\":0,\"kind\":null,\"name\":\"close_modal\"}]},{\"extends\":null,\"module\":null,\"name\":\"MaterialTemplateActions1\",\"overrides\":[],\"properties\":[{\"default\":0,\"kind\":null,\"name\":\"open_modal\"},{\"default\":0,\"kind\":null,\"name\":\"close_modal\"}]}],\"roots\":{\"references\":[{\"attributes\":{},\"id\":\"6281\",\"type\":\"LinearScale\"},{\"attributes\":{\"axis_label\":\"Date\",\"coordinates\":null,\"formatter\":{\"id\":\"6316\"},\"group\":null,\"major_label_policy\":{\"id\":\"6317\"},\"ticker\":{\"id\":\"6286\"}},\"id\":\"6285\",\"type\":\"LinearAxis\"},{\"attributes\":{},\"id\":\"6330\",\"type\":\"UnionRenderers\"},{\"attributes\":{\"reload\":false},\"id\":\"6404\",\"type\":\"panel.models.location.Location\"},{\"attributes\":{\"tools\":[{\"id\":\"6275\"},{\"id\":\"6293\"},{\"id\":\"6294\"},{\"id\":\"6295\"},{\"id\":\"6296\"},{\"id\":\"6297\"}]},\"id\":\"6299\",\"type\":\"Toolbar\"},{\"attributes\":{\"data\":{\"Close\":{\"__ndarray__\":\"\",\"dtype\":\"float64\",\"order\":\"little\",\"shape\":[0]},\"Date\":[]},\"selected\":{\"id\":\"6307\"},\"selection_policy\":{\"id\":\"6330\"}},\"id\":\"6306\",\"type\":\"ColumnDataSource\"},{\"attributes\":{\"end\":21,\"margin\":[5,10,5,10],\"start\":1,\"title\":\"Window Size\",\"value\":6},\"id\":\"6271\",\"type\":\"Slider\"},{\"attributes\":{\"source\":{\"id\":\"6306\"}},\"id\":\"6313\",\"type\":\"CDSView\"},{\"attributes\":{\"callback\":null,\"renderers\":[{\"id\":\"6312\"}],\"tags\":[\"hv_created\"],\"tooltips\":[[\"Date\",\"@{Date}\"],[\"Close\",\"@{Close}\"]]},\"id\":\"6275\",\"type\":\"HoverTool\"},{\"attributes\":{},\"id\":\"6290\",\"type\":\"BasicTicker\"},{\"attributes\":{\"axis_label\":\"Close\",\"coordinates\":null,\"formatter\":{\"id\":\"6319\"},\"group\":null,\"major_label_policy\":{\"id\":\"6320\"},\"ticker\":{\"id\":\"6290\"}},\"id\":\"6289\",\"type\":\"LinearAxis\"},{\"attributes\":{},\"id\":\"6317\",\"type\":\"AllLabels\"},{\"attributes\":{},\"id\":\"6319\",\"type\":\"BasicTickFormatter\"},{\"attributes\":{\"line_alpha\":0.1,\"line_color\":\"#30a2da\",\"line_width\":2,\"x\":{\"field\":\"Date\"},\"y\":{\"field\":\"Close\"}},\"id\":\"6310\",\"type\":\"Line\"},{\"attributes\":{\"tags\":[[[\"Close\",\"Close\",null]]]},\"id\":\"6274\",\"type\":\"Range1d\"},{\"attributes\":{\"coordinates\":null,\"data_source\":{\"id\":\"6306\"},\"glyph\":{\"id\":\"6309\"},\"group\":null,\"hover_glyph\":null,\"muted_glyph\":{\"id\":\"6311\"},\"nonselection_glyph\":{\"id\":\"6310\"},\"selection_glyph\":{\"id\":\"6314\"},\"view\":{\"id\":\"6313\"}},\"id\":\"6312\",\"type\":\"GlyphRenderer\"},{\"attributes\":{},\"id\":\"6320\",\"type\":\"AllLabels\"},{\"attributes\":{\"line_alpha\":0.2,\"line_color\":\"#30a2da\",\"line_width\":2,\"x\":{\"field\":\"Date\"},\"y\":{\"field\":\"Close\"}},\"id\":\"6311\",\"type\":\"Line\"},{\"attributes\":{\"axis\":{\"id\":\"6285\"},\"coordinates\":null,\"group\":null,\"ticker\":{\"id\":\"6286\"}},\"id\":\"6288\",\"type\":\"Grid\"},{\"attributes\":{\"children\":[{\"id\":\"6268\"},{\"id\":\"6272\"}],\"margin\":[0,0,0,0],\"name\":\"Row07229\"},\"id\":\"6267\",\"type\":\"Row\"},{\"attributes\":{\"below\":[{\"id\":\"6285\"}],\"center\":[{\"id\":\"6288\"},{\"id\":\"6292\"}],\"height\":300,\"left\":[{\"id\":\"6289\"}],\"margin\":[5,5,5,5],\"min_border_bottom\":10,\"min_border_left\":10,\"min_border_right\":10,\"min_border_top\":10,\"renderers\":[{\"id\":\"6312\"}],\"sizing_mode\":\"stretch_width\",\"title\":{\"id\":\"6277\"},\"toolbar\":{\"id\":\"6299\"},\"width\":null,\"x_range\":{\"id\":\"6273\"},\"x_scale\":{\"id\":\"6281\"},\"y_range\":{\"id\":\"6274\"},\"y_scale\":{\"id\":\"6283\"}},\"id\":\"6276\",\"subtype\":\"Figure\",\"type\":\"Plot\"},{\"attributes\":{\"margin\":[5,10,5,10],\"max_length\":5000},\"id\":\"6270\",\"type\":\"TextInput\"},{\"attributes\":{\"line_color\":\"#30a2da\",\"line_width\":2,\"x\":{\"field\":\"Date\"},\"y\":{\"field\":\"Close\"}},\"id\":\"6314\",\"type\":\"Line\"},{\"attributes\":{},\"id\":\"6293\",\"type\":\"SaveTool\"},{\"attributes\":{\"line_color\":\"#30a2da\",\"line_width\":2,\"x\":{\"field\":\"Date\"},\"y\":{\"field\":\"Close\"}},\"id\":\"6309\",\"type\":\"Line\"},{\"attributes\":{},\"id\":\"6294\",\"type\":\"PanTool\"},{\"attributes\":{\"bottom_units\":\"screen\",\"coordinates\":null,\"fill_alpha\":0.5,\"fill_color\":\"lightgrey\",\"group\":null,\"left_units\":\"screen\",\"level\":\"overlay\",\"line_alpha\":1.0,\"line_color\":\"black\",\"line_dash\":[4,4],\"line_width\":2,\"right_units\":\"screen\",\"syncable\":false,\"top_units\":\"screen\"},\"id\":\"6298\",\"type\":\"BoxAnnotation\"},{\"attributes\":{\"client_comm_id\":\"406830b0e3294298b5c9a2b7b779839a\",\"comm_id\":\"74e0d210650341558d918d8a2f84d17e\",\"plot_id\":\"6267\"},\"id\":\"6373\",\"type\":\"panel.models.comm_manager.CommManager\"},{\"attributes\":{},\"id\":\"6297\",\"type\":\"ResetTool\"},{\"attributes\":{},\"id\":\"6307\",\"type\":\"Selection\"},{\"attributes\":{},\"id\":\"6295\",\"type\":\"WheelZoomTool\"},{\"attributes\":{\"children\":[{\"id\":\"6269\"},{\"id\":\"6270\"},{\"id\":\"6271\"}],\"margin\":[0,0,0,0],\"name\":\"Column07139\"},\"id\":\"6268\",\"type\":\"Column\"},{\"attributes\":{\"overlay\":{\"id\":\"6298\"}},\"id\":\"6296\",\"type\":\"BoxZoomTool\"},{\"attributes\":{},\"id\":\"6286\",\"type\":\"BasicTicker\"},{\"attributes\":{\"children\":[{\"id\":\"6276\"}],\"margin\":[0,0,0,0],\"name\":\"Row07144\"},\"id\":\"6272\",\"type\":\"Row\"},{\"attributes\":{\"coordinates\":null,\"group\":null,\"text_color\":\"black\",\"text_font_size\":\"12pt\"},\"id\":\"6277\",\"type\":\"Title\"},{\"attributes\":{},\"id\":\"6316\",\"type\":\"BasicTickFormatter\"},{\"attributes\":{\"css_classes\":[\"markdown\"],\"margin\":[5,5,5,5],\"name\":\"Markdown07137\",\"text\":\"&lt;p&gt;Stock&lt;/p&gt;\"},\"id\":\"6269\",\"type\":\"panel.models.markup.HTML\"},{\"attributes\":{\"tags\":[[[\"Date\",\"Date\",null]]]},\"id\":\"6273\",\"type\":\"Range1d\"},{\"attributes\":{},\"id\":\"6283\",\"type\":\"LinearScale\"},{\"attributes\":{\"axis\":{\"id\":\"6289\"},\"coordinates\":null,\"dimension\":1,\"group\":null,\"ticker\":{\"id\":\"6290\"}},\"id\":\"6292\",\"type\":\"Grid\"}],\"root_ids\":[\"6267\",\"6373\",\"6404\"]},\"title\":\"Bokeh Application\",\"version\":\"2.4.2\"}};\n",
       "    var render_items = [{\"docid\":\"a9a82590-9f0e-4a2e-b7ab-628103316492\",\"root_ids\":[\"6267\"],\"roots\":{\"6267\":\"cf84fb83-4f5b-4879-93bd-a1de58875ded\"}}];\n",
       "    root.Bokeh.embed.embed_items_notebook(docs_json, render_items);\n",
       "  }\n",
       "  if (root.Bokeh !== undefined && root.Bokeh.Panel !== undefined) {\n",
       "    embed_document(root);\n",
       "  } else {\n",
       "    var attempts = 0;\n",
       "    var timer = setInterval(function(root) {\n",
       "      if (root.Bokeh !== undefined && root.Bokeh.Panel !== undefined) {\n",
       "        clearInterval(timer);\n",
       "        embed_document(root);\n",
       "      } else if (document.readyState == \"complete\") {\n",
       "        attempts++;\n",
       "        if (attempts > 200) {\n",
       "          clearInterval(timer);\n",
       "          console.log(\"Bokeh: ERROR: Unable to run BokehJS code because BokehJS library is missing\");\n",
       "        }\n",
       "      }\n",
       "    }, 25, root)\n",
       "  }\n",
       "})(window);</script>"
      ],
      "text/plain": [
       "Row\n",
       "    [0] Column\n",
       "        [0] Markdown(str)\n",
       "        [1] TextInput()\n",
       "        [2] IntSlider(end=21, name='Window Size', start=1, value=6)\n",
       "    [1] ParamFunction(function)"
      ]
     },
     "execution_count": 23,
     "metadata": {
      "application/vnd.holoviews_exec.v0+json": {
       "id": "6267"
      }
     },
     "output_type": "execute_result"
    }
   ],
   "source": [
    "%matplotlib inline\n",
    "import quantstats as qs\n",
    "import yfinance as yf\n",
    "import panel as pn\n",
    "import pandas as pd\n",
    "import hvplot.pandas\n",
    "pn.extension()\n",
    "# extend pandas functionality with metrics, etc.\n",
    "qs.extend_pandas()\n",
    "window = pn.widgets.IntSlider(name='Window Size', value=6, start=1, end=21)\n",
    "title = 'Stock'\n",
    "ticker = pn.widgets.input.TextInput()\n",
    "# ticker.value = ''\n",
    "portfolio = None\n",
    "print(type(portfolio))\n",
    "init = 0\n",
    "# input ticker and view stock data\n",
    "\n",
    "def get_df(ticker, window_size):\n",
    "    df = yf.Ticker(ticker).history(period=\"5Y\")\n",
    "    df.reset_index(inplace=True)\n",
    "    global portfolio\n",
    "    if ticker is not '' and portfolio is None:\n",
    "        portfolio = df[['Date', 'Close']]\n",
    "        portfolio.rename(columns={'Close': ticker}, inplace=True)\n",
    "    elif ticker is not '':\n",
    "        portfolio = pd.concat([portfolio, df['Close']], join='inner', axis='columns')\n",
    "        portfolio.rename(columns={'Close': ticker}, inplace=True)\n",
    "    \n",
    "    return df.set_index('Date').rolling(window=window_size).mean().reset_index()\n",
    "def get_plot(ticker, window_size):\n",
    "    df = get_df(ticker, window_size)\n",
    "    return df.hvplot.line('Date', 'Close', grid=True, responsive=True, height=300)\n",
    "\n",
    "pn.Row(\n",
    "    pn.Column(title, ticker, window),\n",
    "    pn.bind(get_plot, ticker, window)\n",
    ")\n",
    "\n",
    "\n",
    "\n"
   ]
  },
  {
   "cell_type": "code",
   "execution_count": null,
   "id": "b44612a5",
   "metadata": {},
   "outputs": [],
   "source": [
    "# create portfolio analysis\n",
    "def get_portfolio"
   ]
  }
 ],
 "metadata": {
  "kernelspec": {
   "display_name": "Python [conda env:pyvizenv] *",
   "language": "python",
   "name": "conda-env-pyvizenv-py"
  },
  "language_info": {
   "codemirror_mode": {
    "name": "ipython",
    "version": 3
   },
   "file_extension": ".py",
   "mimetype": "text/x-python",
   "name": "python",
   "nbconvert_exporter": "python",
   "pygments_lexer": "ipython3",
   "version": "3.7.11"
  }
 },
 "nbformat": 4,
 "nbformat_minor": 5
}
