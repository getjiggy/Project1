{
 "cells": [
  {
   "cell_type": "code",
   "execution_count": 6,
   "id": "f982bb49",
   "metadata": {},
   "outputs": [
    {
     "data": {
      "text/plain": [
       "Date\n",
       "2012-05-18         NaN\n",
       "2012-05-21   -0.109861\n",
       "2012-05-22   -0.089039\n",
       "2012-05-23    0.032258\n",
       "2012-05-24    0.032187\n",
       "                ...   \n",
       "2022-02-01    0.018323\n",
       "2022-02-02    0.012539\n",
       "2022-02-03   -0.263901\n",
       "2022-02-04   -0.002818\n",
       "2022-02-07   -0.051373\n",
       "Name: Close, Length: 2447, dtype: float64"
      ]
     },
     "execution_count": 6,
     "metadata": {},
     "output_type": "execute_result"
    }
   ],
   "source": [
    "%matplotlib inline\n",
    "import quantstats as qs\n",
    "\n",
    "# extend pandas functionality with metrics, etc.\n",
    "qs.extend_pandas()\n",
    "\n",
    "# fetch the daily returns for a stock\n",
    "stock = qs.utils.download_returns('FB')\n",
    "stock\n",
    "\n",
    "# show sharpe ratio\n",
    "# qs.stats.sharpe(stock)\n",
    "\n",
    "# or using extend_pandas() :)\n",
    "# stock.sharpe()"
   ]
  },
  {
   "cell_type": "code",
   "execution_count": null,
   "id": "a6d839a7",
   "metadata": {},
   "outputs": [],
   "source": []
  }
 ],
 "metadata": {
  "kernelspec": {
   "display_name": "Python [conda env:pyvizenv] *",
   "language": "python",
   "name": "conda-env-pyvizenv-py"
  },
  "language_info": {
   "codemirror_mode": {
    "name": "ipython",
    "version": 3
   },
   "file_extension": ".py",
   "mimetype": "text/x-python",
   "name": "python",
   "nbconvert_exporter": "python",
   "pygments_lexer": "ipython3",
   "version": "3.7.11"
  }
 },
 "nbformat": 4,
 "nbformat_minor": 5
}
