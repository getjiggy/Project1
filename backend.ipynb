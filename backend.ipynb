{
 "cells": [
  {
   "cell_type": "code",
   "execution_count": 26,
   "id": "6f28a15e",
   "metadata": {},
   "outputs": [
    {
     "name": "stdout",
     "output_type": "stream",
     "text": [
      "- : No data found for this date range, symbol may be delisted\n",
      "[]\n"
     ]
    },
    {
     "data": {},
     "metadata": {},
     "output_type": "display_data"
    },
    {
     "data": {
      "text/html": [
       "['aapl']</br>\n",
       "- : No data found for this date range, symbol may be delisted</br>\n",
       "['aapl']</br>"
      ]
     },
     "metadata": {},
     "output_type": "display_data"
    },
    {
     "data": {
      "application/vnd.holoviews_exec.v0+json": "",
      "text/html": [
       "<div id='4596'>\n",
       "\n",
       "\n",
       "\n",
       "\n",
       "\n",
       "  <div class=\"bk-root\" id=\"5d03d6b2-6de0-4b64-b5b7-a45dc9e65927\" data-root-id=\"4596\"></div>\n",
       "</div>\n",
       "<script type=\"application/javascript\">(function(root) {\n",
       "  function embed_document(root) {\n",
       "    var docs_json = {\"32a70823-03a6-42f9-bd28-64b4ad8fda61\":{\"defs\":[{\"extends\":null,\"module\":null,\"name\":\"ReactiveHTML1\",\"overrides\":[],\"properties\":[]},{\"extends\":null,\"module\":null,\"name\":\"FlexBox1\",\"overrides\":[],\"properties\":[{\"default\":\"flex-start\",\"kind\":null,\"name\":\"align_content\"},{\"default\":\"flex-start\",\"kind\":null,\"name\":\"align_items\"},{\"default\":\"row\",\"kind\":null,\"name\":\"flex_direction\"},{\"default\":\"wrap\",\"kind\":null,\"name\":\"flex_wrap\"},{\"default\":\"flex-start\",\"kind\":null,\"name\":\"justify_content\"}]},{\"extends\":null,\"module\":null,\"name\":\"TemplateActions1\",\"overrides\":[],\"properties\":[{\"default\":0,\"kind\":null,\"name\":\"open_modal\"},{\"default\":0,\"kind\":null,\"name\":\"close_modal\"}]},{\"extends\":null,\"module\":null,\"name\":\"MaterialTemplateActions1\",\"overrides\":[],\"properties\":[{\"default\":0,\"kind\":null,\"name\":\"open_modal\"},{\"default\":0,\"kind\":null,\"name\":\"close_modal\"}]}],\"roots\":{\"references\":[{\"attributes\":{},\"id\":\"4649\",\"type\":\"AllLabels\"},{\"attributes\":{},\"id\":\"4636\",\"type\":\"Selection\"},{\"attributes\":{\"coordinates\":null,\"data_source\":{\"id\":\"4635\"},\"glyph\":{\"id\":\"4638\"},\"group\":null,\"hover_glyph\":null,\"muted_glyph\":{\"id\":\"4640\"},\"nonselection_glyph\":{\"id\":\"4639\"},\"selection_glyph\":{\"id\":\"4643\"},\"view\":{\"id\":\"4642\"}},\"id\":\"4641\",\"type\":\"GlyphRenderer\"},{\"attributes\":{\"callback\":null,\"renderers\":[{\"id\":\"4641\"}],\"tags\":[\"hv_created\"],\"tooltips\":[[\"Date\",\"@{Date}\"],[\"Close\",\"@{Close}\"]]},\"id\":\"4604\",\"type\":\"HoverTool\"},{\"attributes\":{\"children\":[{\"id\":\"4605\"}],\"margin\":[0,0,0,0],\"name\":\"Row04871\"},\"id\":\"4601\",\"type\":\"Row\"},{\"attributes\":{\"line_alpha\":0.1,\"line_color\":\"#30a2da\",\"line_width\":2,\"x\":{\"field\":\"Date\"},\"y\":{\"field\":\"Close\"}},\"id\":\"4639\",\"type\":\"Line\"},{\"attributes\":{\"margin\":[5,10,5,10],\"max_length\":5000},\"id\":\"4599\",\"type\":\"TextInput\"},{\"attributes\":{\"line_alpha\":0.2,\"line_color\":\"#30a2da\",\"line_width\":2,\"x\":{\"field\":\"Date\"},\"y\":{\"field\":\"Close\"}},\"id\":\"4640\",\"type\":\"Line\"},{\"attributes\":{\"source\":{\"id\":\"4635\"}},\"id\":\"4642\",\"type\":\"CDSView\"},{\"attributes\":{\"children\":[{\"id\":\"4597\"},{\"id\":\"4601\"}],\"margin\":[0,0,0,0],\"name\":\"Row04956\"},\"id\":\"4596\",\"type\":\"Row\"},{\"attributes\":{\"reload\":false},\"id\":\"4733\",\"type\":\"panel.models.location.Location\"},{\"attributes\":{},\"id\":\"4659\",\"type\":\"UnionRenderers\"},{\"attributes\":{\"bottom_units\":\"screen\",\"coordinates\":null,\"fill_alpha\":0.5,\"fill_color\":\"lightgrey\",\"group\":null,\"left_units\":\"screen\",\"level\":\"overlay\",\"line_alpha\":1.0,\"line_color\":\"black\",\"line_dash\":[4,4],\"line_width\":2,\"right_units\":\"screen\",\"syncable\":false,\"top_units\":\"screen\"},\"id\":\"4627\",\"type\":\"BoxAnnotation\"},{\"attributes\":{\"below\":[{\"id\":\"4614\"}],\"center\":[{\"id\":\"4617\"},{\"id\":\"4621\"}],\"height\":300,\"left\":[{\"id\":\"4618\"}],\"margin\":[5,5,5,5],\"min_border_bottom\":10,\"min_border_left\":10,\"min_border_right\":10,\"min_border_top\":10,\"renderers\":[{\"id\":\"4641\"}],\"sizing_mode\":\"stretch_width\",\"title\":{\"id\":\"4606\"},\"toolbar\":{\"id\":\"4628\"},\"width\":null,\"x_range\":{\"id\":\"4602\"},\"x_scale\":{\"id\":\"4610\"},\"y_range\":{\"id\":\"4603\"},\"y_scale\":{\"id\":\"4612\"}},\"id\":\"4605\",\"subtype\":\"Figure\",\"type\":\"Plot\"},{\"attributes\":{},\"id\":\"4622\",\"type\":\"SaveTool\"},{\"attributes\":{},\"id\":\"4623\",\"type\":\"PanTool\"},{\"attributes\":{},\"id\":\"4626\",\"type\":\"ResetTool\"},{\"attributes\":{\"tools\":[{\"id\":\"4604\"},{\"id\":\"4622\"},{\"id\":\"4623\"},{\"id\":\"4624\"},{\"id\":\"4625\"},{\"id\":\"4626\"}]},\"id\":\"4628\",\"type\":\"Toolbar\"},{\"attributes\":{},\"id\":\"4624\",\"type\":\"WheelZoomTool\"},{\"attributes\":{},\"id\":\"4646\",\"type\":\"AllLabels\"},{\"attributes\":{\"children\":[{\"id\":\"4598\"},{\"id\":\"4599\"},{\"id\":\"4600\"}],\"margin\":[0,0,0,0],\"name\":\"Column04866\"},\"id\":\"4597\",\"type\":\"Column\"},{\"attributes\":{},\"id\":\"4610\",\"type\":\"LinearScale\"},{\"attributes\":{\"line_color\":\"#30a2da\",\"line_width\":2,\"x\":{\"field\":\"Date\"},\"y\":{\"field\":\"Close\"}},\"id\":\"4638\",\"type\":\"Line\"},{\"attributes\":{\"overlay\":{\"id\":\"4627\"}},\"id\":\"4625\",\"type\":\"BoxZoomTool\"},{\"attributes\":{},\"id\":\"4645\",\"type\":\"BasicTickFormatter\"},{\"attributes\":{\"axis\":{\"id\":\"4614\"},\"coordinates\":null,\"group\":null,\"ticker\":{\"id\":\"4615\"}},\"id\":\"4617\",\"type\":\"Grid\"},{\"attributes\":{\"line_color\":\"#30a2da\",\"line_width\":2,\"x\":{\"field\":\"Date\"},\"y\":{\"field\":\"Close\"}},\"id\":\"4643\",\"type\":\"Line\"},{\"attributes\":{},\"id\":\"4615\",\"type\":\"BasicTicker\"},{\"attributes\":{},\"id\":\"4648\",\"type\":\"BasicTickFormatter\"},{\"attributes\":{\"data\":{\"Close\":{\"__ndarray__\":\"\",\"dtype\":\"float64\",\"order\":\"little\",\"shape\":[0]},\"Date\":[]},\"selected\":{\"id\":\"4636\"},\"selection_policy\":{\"id\":\"4659\"}},\"id\":\"4635\",\"type\":\"ColumnDataSource\"},{\"attributes\":{\"coordinates\":null,\"group\":null,\"text_color\":\"black\",\"text_font_size\":\"12pt\"},\"id\":\"4606\",\"type\":\"Title\"},{\"attributes\":{},\"id\":\"4612\",\"type\":\"LinearScale\"},{\"attributes\":{\"end\":21,\"margin\":[5,10,5,10],\"start\":1,\"title\":\"Window Size\",\"value\":6},\"id\":\"4600\",\"type\":\"Slider\"},{\"attributes\":{\"client_comm_id\":\"5c7daa1ecb174c9788f3af8755b2ac4c\",\"comm_id\":\"088ad4bfa423425ba93183bf268a42f3\",\"plot_id\":\"4596\"},\"id\":\"4702\",\"type\":\"panel.models.comm_manager.CommManager\"},{\"attributes\":{\"css_classes\":[\"markdown\"],\"margin\":[5,5,5,5],\"name\":\"Markdown04864\",\"text\":\"&lt;p&gt;Stock&lt;/p&gt;\"},\"id\":\"4598\",\"type\":\"panel.models.markup.HTML\"},{\"attributes\":{\"axis\":{\"id\":\"4618\"},\"coordinates\":null,\"dimension\":1,\"group\":null,\"ticker\":{\"id\":\"4619\"}},\"id\":\"4621\",\"type\":\"Grid\"},{\"attributes\":{\"axis_label\":\"Date\",\"coordinates\":null,\"formatter\":{\"id\":\"4645\"},\"group\":null,\"major_label_policy\":{\"id\":\"4646\"},\"ticker\":{\"id\":\"4615\"}},\"id\":\"4614\",\"type\":\"LinearAxis\"},{\"attributes\":{\"tags\":[[[\"Close\",\"Close\",null]]]},\"id\":\"4603\",\"type\":\"Range1d\"},{\"attributes\":{},\"id\":\"4619\",\"type\":\"BasicTicker\"},{\"attributes\":{\"axis_label\":\"Close\",\"coordinates\":null,\"formatter\":{\"id\":\"4648\"},\"group\":null,\"major_label_policy\":{\"id\":\"4649\"},\"ticker\":{\"id\":\"4619\"}},\"id\":\"4618\",\"type\":\"LinearAxis\"},{\"attributes\":{\"tags\":[[[\"Date\",\"Date\",null]]]},\"id\":\"4602\",\"type\":\"Range1d\"}],\"root_ids\":[\"4596\",\"4702\",\"4733\"]},\"title\":\"Bokeh Application\",\"version\":\"2.4.2\"}};\n",
       "    var render_items = [{\"docid\":\"32a70823-03a6-42f9-bd28-64b4ad8fda61\",\"root_ids\":[\"4596\"],\"roots\":{\"4596\":\"5d03d6b2-6de0-4b64-b5b7-a45dc9e65927\"}}];\n",
       "    root.Bokeh.embed.embed_items_notebook(docs_json, render_items);\n",
       "  }\n",
       "  if (root.Bokeh !== undefined && root.Bokeh.Panel !== undefined) {\n",
       "    embed_document(root);\n",
       "  } else {\n",
       "    var attempts = 0;\n",
       "    var timer = setInterval(function(root) {\n",
       "      if (root.Bokeh !== undefined && root.Bokeh.Panel !== undefined) {\n",
       "        clearInterval(timer);\n",
       "        embed_document(root);\n",
       "      } else if (document.readyState == \"complete\") {\n",
       "        attempts++;\n",
       "        if (attempts > 200) {\n",
       "          clearInterval(timer);\n",
       "          console.log(\"Bokeh: ERROR: Unable to run BokehJS code because BokehJS library is missing\");\n",
       "        }\n",
       "      }\n",
       "    }, 25, root)\n",
       "  }\n",
       "})(window);</script>"
      ],
      "text/plain": [
       "Row\n",
       "    [0] Column\n",
       "        [0] Markdown(str)\n",
       "        [1] TextInput()\n",
       "        [2] IntSlider(end=21, name='Window Size', start=1, value=6)\n",
       "    [1] ParamFunction(function)"
      ]
     },
     "execution_count": 26,
     "metadata": {
      "application/vnd.holoviews_exec.v0+json": {
       "id": "4596"
      }
     },
     "output_type": "execute_result"
    }
   ],
   "source": [
    "%matplotlib inline\n",
    "import quantstats as qs\n",
    "import yfinance as yf\n",
    "import panel as pn\n",
    "import pandas as pd\n",
    "import hvplot.pandas\n",
    "pn.extension()\n",
    "# extend pandas functionality with metrics, etc.\n",
    "qs.extend_pandas()\n",
    "window = pn.widgets.IntSlider(name='Window Size', value=6, start=1, end=21)\n",
    "portfolio = [ticker]\n",
    "title = 'Stock'\n",
    "ticker = pn.widgets.input.TextInput()\n",
    "# ticker.value = ''\n",
    "portfolio = []\n",
    "\n",
    "# \n",
    "def get_df(ticker, window_size):\n",
    "    if ticker is not '':\n",
    "        portfolio.append(ticker)\n",
    "    df = yf.Ticker(ticker).history(period=\"5Y\")\n",
    "    print(portfolio)\n",
    "    df.reset_index(inplace=True)\n",
    "    return df.set_index('Date').rolling(window=window_size).mean().reset_index()\n",
    "def get_plot(ticker, window_size):\n",
    "    df = get_df(ticker, window_size)\n",
    "    return df.hvplot.line('Date', 'Close', grid=True, responsive=True, height=300)\n",
    "\n",
    "pn.Row(\n",
    "    pn.Column(title, ticker, window),\n",
    "    pn.bind(get_plot, ticker, window)\n",
    ")"
   ]
  },
  {
   "cell_type": "code",
   "execution_count": null,
   "id": "35dc673b",
   "metadata": {},
   "outputs": [],
   "source": []
  }
 ],
 "metadata": {
  "kernelspec": {
   "display_name": "Python [conda env:pyvizenv] *",
   "language": "python",
   "name": "conda-env-pyvizenv-py"
  },
  "language_info": {
   "codemirror_mode": {
    "name": "ipython",
    "version": 3
   },
   "file_extension": ".py",
   "mimetype": "text/x-python",
   "name": "python",
   "nbconvert_exporter": "python",
   "pygments_lexer": "ipython3",
   "version": "3.7.11"
  }
 },
 "nbformat": 4,
 "nbformat_minor": 5
}
