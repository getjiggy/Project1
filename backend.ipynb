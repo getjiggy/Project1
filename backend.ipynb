{
 "cells": [
  {
   "cell_type": "code",
   "execution_count": 41,
   "id": "1a78a6b6",
   "metadata": {},
   "outputs": [
    {
     "name": "stdout",
     "output_type": "stream",
     "text": [
      "<class 'NoneType'>\n",
      "- : No data found for this date range, symbol may be delisted\n"
     ]
    },
    {
     "data": {},
     "metadata": {},
     "output_type": "display_data"
    },
    {
     "data": {},
     "metadata": {},
     "output_type": "display_data"
    },
    {
     "data": {
      "application/vnd.holoviews_exec.v0+json": "",
      "text/html": [
       "<div id='8052'>\n",
       "\n",
       "\n",
       "\n",
       "\n",
       "\n",
       "  <div class=\"bk-root\" id=\"47af6004-4aee-4087-aad9-5e9d9c32636c\" data-root-id=\"8052\"></div>\n",
       "</div>\n",
       "<script type=\"application/javascript\">(function(root) {\n",
       "  function embed_document(root) {\n",
       "    var docs_json = {\"308c0ed4-0faf-43bf-bb7a-d54af82332af\":{\"defs\":[{\"extends\":null,\"module\":null,\"name\":\"ReactiveHTML1\",\"overrides\":[],\"properties\":[]},{\"extends\":null,\"module\":null,\"name\":\"FlexBox1\",\"overrides\":[],\"properties\":[{\"default\":\"flex-start\",\"kind\":null,\"name\":\"align_content\"},{\"default\":\"flex-start\",\"kind\":null,\"name\":\"align_items\"},{\"default\":\"row\",\"kind\":null,\"name\":\"flex_direction\"},{\"default\":\"wrap\",\"kind\":null,\"name\":\"flex_wrap\"},{\"default\":\"flex-start\",\"kind\":null,\"name\":\"justify_content\"}]},{\"extends\":null,\"module\":null,\"name\":\"TemplateActions1\",\"overrides\":[],\"properties\":[{\"default\":0,\"kind\":null,\"name\":\"open_modal\"},{\"default\":0,\"kind\":null,\"name\":\"close_modal\"}]},{\"extends\":null,\"module\":null,\"name\":\"MaterialTemplateActions1\",\"overrides\":[],\"properties\":[{\"default\":0,\"kind\":null,\"name\":\"open_modal\"},{\"default\":0,\"kind\":null,\"name\":\"close_modal\"}]}],\"roots\":{\"references\":[{\"attributes\":{},\"id\":\"8078\",\"type\":\"SaveTool\"},{\"attributes\":{},\"id\":\"8104\",\"type\":\"BasicTickFormatter\"},{\"attributes\":{\"tags\":[[[\"Close\",\"Close\",null]]]},\"id\":\"8059\",\"type\":\"Range1d\"},{\"attributes\":{\"tools\":[{\"id\":\"8060\"},{\"id\":\"8078\"},{\"id\":\"8079\"},{\"id\":\"8080\"},{\"id\":\"8081\"},{\"id\":\"8082\"}]},\"id\":\"8084\",\"type\":\"Toolbar\"},{\"attributes\":{\"line_color\":\"#30a2da\",\"line_width\":2,\"x\":{\"field\":\"Date\"},\"y\":{\"field\":\"Close\"}},\"id\":\"8099\",\"type\":\"Line\"},{\"attributes\":{\"line_alpha\":0.1,\"line_color\":\"#30a2da\",\"line_width\":2,\"x\":{\"field\":\"Date\"},\"y\":{\"field\":\"Close\"}},\"id\":\"8095\",\"type\":\"Line\"},{\"attributes\":{\"coordinates\":null,\"data_source\":{\"id\":\"8091\"},\"glyph\":{\"id\":\"8094\"},\"group\":null,\"hover_glyph\":null,\"muted_glyph\":{\"id\":\"8096\"},\"nonselection_glyph\":{\"id\":\"8095\"},\"selection_glyph\":{\"id\":\"8099\"},\"view\":{\"id\":\"8098\"}},\"id\":\"8097\",\"type\":\"GlyphRenderer\"},{\"attributes\":{},\"id\":\"8102\",\"type\":\"AllLabels\"},{\"attributes\":{\"callback\":null,\"renderers\":[{\"id\":\"8097\"}],\"tags\":[\"hv_created\"],\"tooltips\":[[\"Date\",\"@{Date}\"],[\"Close\",\"@{Close}\"]]},\"id\":\"8060\",\"type\":\"HoverTool\"},{\"attributes\":{},\"id\":\"8071\",\"type\":\"BasicTicker\"},{\"attributes\":{\"client_comm_id\":\"d14515014ee74180ab6399cf90e4b7ad\",\"comm_id\":\"d1630ee9d8034a62a78ee974588dc4a7\",\"plot_id\":\"8052\"},\"id\":\"8158\",\"type\":\"panel.models.comm_manager.CommManager\"},{\"attributes\":{\"axis_label\":\"Close\",\"coordinates\":null,\"formatter\":{\"id\":\"8104\"},\"group\":null,\"major_label_policy\":{\"id\":\"8105\"},\"ticker\":{\"id\":\"8075\"}},\"id\":\"8074\",\"type\":\"LinearAxis\"},{\"attributes\":{},\"id\":\"8105\",\"type\":\"AllLabels\"},{\"attributes\":{\"tags\":[[[\"Date\",\"Date\",null]]]},\"id\":\"8058\",\"type\":\"Range1d\"},{\"attributes\":{},\"id\":\"8101\",\"type\":\"BasicTickFormatter\"},{\"attributes\":{},\"id\":\"8092\",\"type\":\"Selection\"},{\"attributes\":{\"children\":[{\"id\":\"8061\"}],\"margin\":[0,0,0,0],\"name\":\"Row08973\"},\"id\":\"8057\",\"type\":\"Row\"},{\"attributes\":{\"axis\":{\"id\":\"8070\"},\"coordinates\":null,\"group\":null,\"ticker\":{\"id\":\"8071\"}},\"id\":\"8073\",\"type\":\"Grid\"},{\"attributes\":{\"line_color\":\"#30a2da\",\"line_width\":2,\"x\":{\"field\":\"Date\"},\"y\":{\"field\":\"Close\"}},\"id\":\"8094\",\"type\":\"Line\"},{\"attributes\":{},\"id\":\"8066\",\"type\":\"LinearScale\"},{\"attributes\":{},\"id\":\"8080\",\"type\":\"WheelZoomTool\"},{\"attributes\":{},\"id\":\"8115\",\"type\":\"UnionRenderers\"},{\"attributes\":{\"line_alpha\":0.2,\"line_color\":\"#30a2da\",\"line_width\":2,\"x\":{\"field\":\"Date\"},\"y\":{\"field\":\"Close\"}},\"id\":\"8096\",\"type\":\"Line\"},{\"attributes\":{\"children\":[{\"id\":\"8054\"},{\"id\":\"8055\"},{\"id\":\"8056\"}],\"margin\":[0,0,0,0],\"name\":\"Column08968\"},\"id\":\"8053\",\"type\":\"Column\"},{\"attributes\":{\"below\":[{\"id\":\"8070\"}],\"center\":[{\"id\":\"8073\"},{\"id\":\"8077\"}],\"height\":300,\"left\":[{\"id\":\"8074\"}],\"margin\":[5,5,5,5],\"min_border_bottom\":10,\"min_border_left\":10,\"min_border_right\":10,\"min_border_top\":10,\"renderers\":[{\"id\":\"8097\"}],\"sizing_mode\":\"stretch_width\",\"title\":{\"id\":\"8062\"},\"toolbar\":{\"id\":\"8084\"},\"width\":null,\"x_range\":{\"id\":\"8058\"},\"x_scale\":{\"id\":\"8066\"},\"y_range\":{\"id\":\"8059\"},\"y_scale\":{\"id\":\"8068\"}},\"id\":\"8061\",\"subtype\":\"Figure\",\"type\":\"Plot\"},{\"attributes\":{\"overlay\":{\"id\":\"8083\"}},\"id\":\"8081\",\"type\":\"BoxZoomTool\"},{\"attributes\":{\"children\":[{\"id\":\"8053\"},{\"id\":\"8057\"}],\"margin\":[0,0,0,0],\"name\":\"Row09058\"},\"id\":\"8052\",\"type\":\"Row\"},{\"attributes\":{},\"id\":\"8068\",\"type\":\"LinearScale\"},{\"attributes\":{\"end\":21,\"margin\":[5,10,5,10],\"start\":1,\"title\":\"Window Size\",\"value\":6},\"id\":\"8056\",\"type\":\"Slider\"},{\"attributes\":{\"axis_label\":\"Date\",\"coordinates\":null,\"formatter\":{\"id\":\"8101\"},\"group\":null,\"major_label_policy\":{\"id\":\"8102\"},\"ticker\":{\"id\":\"8071\"}},\"id\":\"8070\",\"type\":\"LinearAxis\"},{\"attributes\":{\"data\":{\"Close\":{\"__ndarray__\":\"\",\"dtype\":\"float64\",\"order\":\"little\",\"shape\":[0]},\"Date\":[]},\"selected\":{\"id\":\"8092\"},\"selection_policy\":{\"id\":\"8115\"}},\"id\":\"8091\",\"type\":\"ColumnDataSource\"},{\"attributes\":{\"reload\":false},\"id\":\"8189\",\"type\":\"panel.models.location.Location\"},{\"attributes\":{\"margin\":[5,10,5,10],\"max_length\":5000},\"id\":\"8055\",\"type\":\"TextInput\"},{\"attributes\":{\"source\":{\"id\":\"8091\"}},\"id\":\"8098\",\"type\":\"CDSView\"},{\"attributes\":{\"bottom_units\":\"screen\",\"coordinates\":null,\"fill_alpha\":0.5,\"fill_color\":\"lightgrey\",\"group\":null,\"left_units\":\"screen\",\"level\":\"overlay\",\"line_alpha\":1.0,\"line_color\":\"black\",\"line_dash\":[4,4],\"line_width\":2,\"right_units\":\"screen\",\"syncable\":false,\"top_units\":\"screen\"},\"id\":\"8083\",\"type\":\"BoxAnnotation\"},{\"attributes\":{\"css_classes\":[\"markdown\"],\"margin\":[5,5,5,5],\"name\":\"Markdown08966\",\"text\":\"&lt;p&gt;Stock&lt;/p&gt;\"},\"id\":\"8054\",\"type\":\"panel.models.markup.HTML\"},{\"attributes\":{\"coordinates\":null,\"group\":null,\"text_color\":\"black\",\"text_font_size\":\"12pt\"},\"id\":\"8062\",\"type\":\"Title\"},{\"attributes\":{},\"id\":\"8079\",\"type\":\"PanTool\"},{\"attributes\":{},\"id\":\"8082\",\"type\":\"ResetTool\"},{\"attributes\":{},\"id\":\"8075\",\"type\":\"BasicTicker\"},{\"attributes\":{\"axis\":{\"id\":\"8074\"},\"coordinates\":null,\"dimension\":1,\"group\":null,\"ticker\":{\"id\":\"8075\"}},\"id\":\"8077\",\"type\":\"Grid\"}],\"root_ids\":[\"8052\",\"8158\",\"8189\"]},\"title\":\"Bokeh Application\",\"version\":\"2.4.2\"}};\n",
       "    var render_items = [{\"docid\":\"308c0ed4-0faf-43bf-bb7a-d54af82332af\",\"root_ids\":[\"8052\"],\"roots\":{\"8052\":\"47af6004-4aee-4087-aad9-5e9d9c32636c\"}}];\n",
       "    root.Bokeh.embed.embed_items_notebook(docs_json, render_items);\n",
       "  }\n",
       "  if (root.Bokeh !== undefined && root.Bokeh.Panel !== undefined) {\n",
       "    embed_document(root);\n",
       "  } else {\n",
       "    var attempts = 0;\n",
       "    var timer = setInterval(function(root) {\n",
       "      if (root.Bokeh !== undefined && root.Bokeh.Panel !== undefined) {\n",
       "        clearInterval(timer);\n",
       "        embed_document(root);\n",
       "      } else if (document.readyState == \"complete\") {\n",
       "        attempts++;\n",
       "        if (attempts > 200) {\n",
       "          clearInterval(timer);\n",
       "          console.log(\"Bokeh: ERROR: Unable to run BokehJS code because BokehJS library is missing\");\n",
       "        }\n",
       "      }\n",
       "    }, 25, root)\n",
       "  }\n",
       "})(window);</script>"
      ],
      "text/plain": [
       "Row\n",
       "    [0] Column\n",
       "        [0] Markdown(str)\n",
       "        [1] TextInput()\n",
       "        [2] IntSlider(end=21, name='Window Size', start=1, value=6)\n",
       "    [1] ParamFunction(function)"
      ]
     },
     "execution_count": 41,
     "metadata": {
      "application/vnd.holoviews_exec.v0+json": {
       "id": "8052"
      }
     },
     "output_type": "execute_result"
    }
   ],
   "source": [
    "%matplotlib inline\n",
    "import quantstats as qs\n",
    "import yfinance as yf\n",
    "import panel as pn\n",
    "import pandas as pd\n",
    "import hvplot.pandas\n",
    "pn.extension()\n",
    "from pypfopt.expected_returns import mean_historical_return\n",
    "from pypfopt.risk_models import CovarianceShrinkage\n",
    "from pypfopt.efficient_frontier import EfficientFrontier\n",
    "from pypfopt import HRPOpt\n",
    "# extend pandas functionality with metrics, etc.\n",
    "qs.extend_pandas()\n",
    "window = pn.widgets.IntSlider(name='Window Size', value=6, start=1, end=21)\n",
    "title = 'Stock'\n",
    "ticker = pn.widgets.input.TextInput()\n",
    "# ticker.value = ''\n",
    "portfolio = None\n",
    "print(type(portfolio))\n",
    "init = 0\n",
    "# input ticker and view stock data\n",
    "\n",
    "def get_df(ticker, window_size):\n",
    "    df = yf.Ticker(ticker).history(period=\"5Y\")\n",
    "    df.reset_index(inplace=True)\n",
    "    global portfolio\n",
    "    if ticker is not '' and portfolio is None:\n",
    "        portfolio = df[['Date', 'Close']]\n",
    "        portfolio.rename(columns={'Close': ticker}, inplace=True)\n",
    "    elif ticker is not '':\n",
    "        portfolio = pd.concat([portfolio, df['Close']], join='inner', axis='columns')\n",
    "        portfolio.rename(columns={'Close': ticker}, inplace=True)\n",
    "    \n",
    "    return df.set_index('Date').rolling(window=window_size).mean().reset_index()\n",
    "def get_plot(ticker, window_size):\n",
    "    df = get_df(ticker, window_size)\n",
    "    return df.hvplot.line('Date', 'Close', grid=True, responsive=True, height=300)\n",
    "\n",
    "pn.Row(\n",
    "    pn.Column(title, ticker, window),\n",
    "    pn.bind(get_plot, ticker, window)\n",
    ")\n",
    "\n",
    "\n",
    "\n"
   ]
  },
  {
   "cell_type": "code",
   "execution_count": 45,
   "id": "f4c89ef7",
   "metadata": {},
   "outputs": [
    {
     "name": "stdout",
     "output_type": "stream",
     "text": [
      "                  AAPL         AMD         GME\n",
      "Date                                          \n",
      "2022-02-08  174.830002  132.850006  124.290001\n",
      "2022-02-07  171.660004  128.229996  115.599998\n",
      "2022-02-04  172.389999  123.669998  102.339996\n",
      "2022-02-03  172.679993  123.599998  102.339996\n",
      "2022-02-02  175.616257  120.080002   99.230003\n",
      "...                ...         ...         ...\n",
      "2017-02-15   31.985769   12.970000   20.672405\n",
      "2017-02-14   31.870119   13.300000   20.965170\n",
      "2017-02-13   31.461765   13.260000   20.932640\n",
      "2017-02-10   31.185595   13.490000   20.631744\n",
      "2017-02-09         NaN   13.580000   20.867582\n",
      "\n",
      "[1259 rows x 3 columns]\n",
      "Expected annual return: -27.1%\n",
      "Annual volatility: 25.5%\n",
      "Sharpe Ratio: -1.14\n"
     ]
    },
    {
     "data": {
      "text/plain": [
       "(-0.27084399783894847, 0.25530957108485175, -1.1391817259458985)"
      ]
     },
     "execution_count": 45,
     "metadata": {},
     "output_type": "execute_result"
    }
   ],
   "source": [
    "# create portfolio analysis\n",
    "def get_portfolio_opt(portfolio, window_size):\n",
    "    portfolio.sort_index(ascending=False, inplace=True)\n",
    "    portfolio.set_index(keys='Date', inplace=True)\n",
    "    print(portfolio)\n",
    "    returns = portfolio.pct_change().dropna()\n",
    "    hrp = HRPOpt(returns)\n",
    "    hrp_weights = hrp.optimize()\n",
    "    performance = hrp.portfolio_performance(verbose=True)\n",
    "    return performance\n",
    "get_portfolio_opt(portfolio, window)"
   ]
  },
  {
   "cell_type": "code",
   "execution_count": null,
   "id": "4b186270",
   "metadata": {},
   "outputs": [],
   "source": []
  }
 ],
 "metadata": {
  "kernelspec": {
   "display_name": "Python [conda env:pyvizenv] *",
   "language": "python",
   "name": "conda-env-pyvizenv-py"
  },
  "language_info": {
   "codemirror_mode": {
    "name": "ipython",
    "version": 3
   },
   "file_extension": ".py",
   "mimetype": "text/x-python",
   "name": "python",
   "nbconvert_exporter": "python",
   "pygments_lexer": "ipython3",
   "version": "3.7.11"
  }
 },
 "nbformat": 4,
 "nbformat_minor": 5
}
