{
 "cells": [
  {
   "cell_type": "code",
   "execution_count": 50,
   "id": "b3fc3c12",
   "metadata": {},
   "outputs": [
    {
     "name": "stdout",
     "output_type": "stream",
     "text": [
      "<class 'NoneType'>\n",
      "- : No data found for this date range, symbol may be delisted\n"
     ]
    },
    {
     "data": {},
     "metadata": {},
     "output_type": "display_data"
    },
    {
     "data": {},
     "metadata": {},
     "output_type": "display_data"
    },
    {
     "data": {
      "application/vnd.holoviews_exec.v0+json": "",
      "text/html": [
       "<div id='11682'>\n",
       "\n",
       "\n",
       "\n",
       "\n",
       "\n",
       "  <div class=\"bk-root\" id=\"78e78d4e-627c-4f89-911a-55f8dd10469a\" data-root-id=\"11682\"></div>\n",
       "</div>\n",
       "<script type=\"application/javascript\">(function(root) {\n",
       "  function embed_document(root) {\n",
       "    var docs_json = {\"3ee9337c-8db2-4e42-b5c9-bbea861576be\":{\"defs\":[{\"extends\":null,\"module\":null,\"name\":\"ReactiveHTML1\",\"overrides\":[],\"properties\":[]},{\"extends\":null,\"module\":null,\"name\":\"FlexBox1\",\"overrides\":[],\"properties\":[{\"default\":\"flex-start\",\"kind\":null,\"name\":\"align_content\"},{\"default\":\"flex-start\",\"kind\":null,\"name\":\"align_items\"},{\"default\":\"row\",\"kind\":null,\"name\":\"flex_direction\"},{\"default\":\"wrap\",\"kind\":null,\"name\":\"flex_wrap\"},{\"default\":\"flex-start\",\"kind\":null,\"name\":\"justify_content\"}]},{\"extends\":null,\"module\":null,\"name\":\"TemplateActions1\",\"overrides\":[],\"properties\":[{\"default\":0,\"kind\":null,\"name\":\"open_modal\"},{\"default\":0,\"kind\":null,\"name\":\"close_modal\"}]},{\"extends\":null,\"module\":null,\"name\":\"MaterialTemplateActions1\",\"overrides\":[],\"properties\":[{\"default\":0,\"kind\":null,\"name\":\"open_modal\"},{\"default\":0,\"kind\":null,\"name\":\"close_modal\"}]}],\"roots\":{\"references\":[{\"attributes\":{\"axis_label\":\"Close\",\"coordinates\":null,\"formatter\":{\"id\":\"11734\"},\"group\":null,\"major_label_policy\":{\"id\":\"11735\"},\"ticker\":{\"id\":\"11705\"}},\"id\":\"11704\",\"type\":\"LinearAxis\"},{\"attributes\":{\"coordinates\":null,\"data_source\":{\"id\":\"11721\"},\"glyph\":{\"id\":\"11724\"},\"group\":null,\"hover_glyph\":null,\"muted_glyph\":{\"id\":\"11726\"},\"nonselection_glyph\":{\"id\":\"11725\"},\"selection_glyph\":{\"id\":\"11729\"},\"view\":{\"id\":\"11728\"}},\"id\":\"11727\",\"type\":\"GlyphRenderer\"},{\"attributes\":{\"callback\":null,\"renderers\":[{\"id\":\"11727\"}],\"tags\":[\"hv_created\"],\"tooltips\":[[\"Date\",\"@{Date}\"],[\"Close\",\"@{Close}\"]]},\"id\":\"11690\",\"type\":\"HoverTool\"},{\"attributes\":{\"line_alpha\":0.1,\"line_color\":\"#30a2da\",\"line_width\":2,\"x\":{\"field\":\"Date\"},\"y\":{\"field\":\"Close\"}},\"id\":\"11725\",\"type\":\"Line\"},{\"attributes\":{},\"id\":\"11722\",\"type\":\"Selection\"},{\"attributes\":{},\"id\":\"11735\",\"type\":\"AllLabels\"},{\"attributes\":{\"line_alpha\":0.2,\"line_color\":\"#30a2da\",\"line_width\":2,\"x\":{\"field\":\"Date\"},\"y\":{\"field\":\"Close\"}},\"id\":\"11726\",\"type\":\"Line\"},{\"attributes\":{},\"id\":\"11705\",\"type\":\"BasicTicker\"},{\"attributes\":{\"margin\":[5,10,5,10],\"max_length\":5000},\"id\":\"11685\",\"type\":\"TextInput\"},{\"attributes\":{\"tags\":[[[\"Date\",\"Date\",null]]]},\"id\":\"11688\",\"type\":\"Range1d\"},{\"attributes\":{\"tools\":[{\"id\":\"11690\"},{\"id\":\"11708\"},{\"id\":\"11709\"},{\"id\":\"11710\"},{\"id\":\"11711\"},{\"id\":\"11712\"}]},\"id\":\"11714\",\"type\":\"Toolbar\"},{\"attributes\":{},\"id\":\"11732\",\"type\":\"AllLabels\"},{\"attributes\":{\"axis\":{\"id\":\"11700\"},\"coordinates\":null,\"group\":null,\"ticker\":{\"id\":\"11701\"}},\"id\":\"11703\",\"type\":\"Grid\"},{\"attributes\":{\"bottom_units\":\"screen\",\"coordinates\":null,\"fill_alpha\":0.5,\"fill_color\":\"lightgrey\",\"group\":null,\"left_units\":\"screen\",\"level\":\"overlay\",\"line_alpha\":1.0,\"line_color\":\"black\",\"line_dash\":[4,4],\"line_width\":2,\"right_units\":\"screen\",\"syncable\":false,\"top_units\":\"screen\"},\"id\":\"11713\",\"type\":\"BoxAnnotation\"},{\"attributes\":{\"below\":[{\"id\":\"11700\"}],\"center\":[{\"id\":\"11703\"},{\"id\":\"11707\"}],\"height\":300,\"left\":[{\"id\":\"11704\"}],\"margin\":[5,5,5,5],\"min_border_bottom\":10,\"min_border_left\":10,\"min_border_right\":10,\"min_border_top\":10,\"renderers\":[{\"id\":\"11727\"}],\"sizing_mode\":\"stretch_width\",\"title\":{\"id\":\"11692\"},\"toolbar\":{\"id\":\"11714\"},\"width\":null,\"x_range\":{\"id\":\"11688\"},\"x_scale\":{\"id\":\"11696\"},\"y_range\":{\"id\":\"11689\"},\"y_scale\":{\"id\":\"11698\"}},\"id\":\"11691\",\"subtype\":\"Figure\",\"type\":\"Plot\"},{\"attributes\":{},\"id\":\"11708\",\"type\":\"SaveTool\"},{\"attributes\":{\"children\":[{\"id\":\"11683\"},{\"id\":\"11687\"}],\"margin\":[0,0,0,0],\"name\":\"Row12664\"},\"id\":\"11682\",\"type\":\"Row\"},{\"attributes\":{\"line_color\":\"#30a2da\",\"line_width\":2,\"x\":{\"field\":\"Date\"},\"y\":{\"field\":\"Close\"}},\"id\":\"11729\",\"type\":\"Line\"},{\"attributes\":{},\"id\":\"11709\",\"type\":\"PanTool\"},{\"attributes\":{\"line_color\":\"#30a2da\",\"line_width\":2,\"x\":{\"field\":\"Date\"},\"y\":{\"field\":\"Close\"}},\"id\":\"11724\",\"type\":\"Line\"},{\"attributes\":{},\"id\":\"11712\",\"type\":\"ResetTool\"},{\"attributes\":{},\"id\":\"11710\",\"type\":\"WheelZoomTool\"},{\"attributes\":{},\"id\":\"11745\",\"type\":\"UnionRenderers\"},{\"attributes\":{\"css_classes\":[\"markdown\"],\"margin\":[5,5,5,5],\"name\":\"Markdown12572\",\"text\":\"&lt;p&gt;Stock&lt;/p&gt;\"},\"id\":\"11684\",\"type\":\"panel.models.markup.HTML\"},{\"attributes\":{\"overlay\":{\"id\":\"11713\"}},\"id\":\"11711\",\"type\":\"BoxZoomTool\"},{\"attributes\":{},\"id\":\"11701\",\"type\":\"BasicTicker\"},{\"attributes\":{\"children\":[{\"id\":\"11684\"},{\"id\":\"11685\"},{\"id\":\"11686\"}],\"margin\":[0,0,0,0],\"name\":\"Column12574\"},\"id\":\"11683\",\"type\":\"Column\"},{\"attributes\":{\"children\":[{\"id\":\"11691\"}],\"margin\":[0,0,0,0],\"name\":\"Row12579\"},\"id\":\"11687\",\"type\":\"Row\"},{\"attributes\":{\"data\":{\"Close\":{\"__ndarray__\":\"\",\"dtype\":\"float64\",\"order\":\"little\",\"shape\":[0]},\"Date\":[]},\"selected\":{\"id\":\"11722\"},\"selection_policy\":{\"id\":\"11745\"}},\"id\":\"11721\",\"type\":\"ColumnDataSource\"},{\"attributes\":{\"coordinates\":null,\"group\":null,\"text_color\":\"black\",\"text_font_size\":\"12pt\"},\"id\":\"11692\",\"type\":\"Title\"},{\"attributes\":{},\"id\":\"11734\",\"type\":\"BasicTickFormatter\"},{\"attributes\":{\"end\":21,\"margin\":[5,10,5,10],\"start\":1,\"title\":\"Window Size\",\"value\":6},\"id\":\"11686\",\"type\":\"Slider\"},{\"attributes\":{},\"id\":\"11696\",\"type\":\"LinearScale\"},{\"attributes\":{},\"id\":\"11698\",\"type\":\"LinearScale\"},{\"attributes\":{\"axis\":{\"id\":\"11704\"},\"coordinates\":null,\"dimension\":1,\"group\":null,\"ticker\":{\"id\":\"11705\"}},\"id\":\"11707\",\"type\":\"Grid\"},{\"attributes\":{\"axis_label\":\"Date\",\"coordinates\":null,\"formatter\":{\"id\":\"11731\"},\"group\":null,\"major_label_policy\":{\"id\":\"11732\"},\"ticker\":{\"id\":\"11701\"}},\"id\":\"11700\",\"type\":\"LinearAxis\"},{\"attributes\":{\"client_comm_id\":\"9c01cf184a2b46cdb776bfbb190701c7\",\"comm_id\":\"0e7ad32b7cbb4e8693a7e264eef5a97e\",\"plot_id\":\"11682\"},\"id\":\"11788\",\"type\":\"panel.models.comm_manager.CommManager\"},{\"attributes\":{},\"id\":\"11731\",\"type\":\"BasicTickFormatter\"},{\"attributes\":{\"reload\":false},\"id\":\"11819\",\"type\":\"panel.models.location.Location\"},{\"attributes\":{\"tags\":[[[\"Close\",\"Close\",null]]]},\"id\":\"11689\",\"type\":\"Range1d\"},{\"attributes\":{\"source\":{\"id\":\"11721\"}},\"id\":\"11728\",\"type\":\"CDSView\"}],\"root_ids\":[\"11682\",\"11788\",\"11819\"]},\"title\":\"Bokeh Application\",\"version\":\"2.4.2\"}};\n",
       "    var render_items = [{\"docid\":\"3ee9337c-8db2-4e42-b5c9-bbea861576be\",\"root_ids\":[\"11682\"],\"roots\":{\"11682\":\"78e78d4e-627c-4f89-911a-55f8dd10469a\"}}];\n",
       "    root.Bokeh.embed.embed_items_notebook(docs_json, render_items);\n",
       "  }\n",
       "  if (root.Bokeh !== undefined && root.Bokeh.Panel !== undefined) {\n",
       "    embed_document(root);\n",
       "  } else {\n",
       "    var attempts = 0;\n",
       "    var timer = setInterval(function(root) {\n",
       "      if (root.Bokeh !== undefined && root.Bokeh.Panel !== undefined) {\n",
       "        clearInterval(timer);\n",
       "        embed_document(root);\n",
       "      } else if (document.readyState == \"complete\") {\n",
       "        attempts++;\n",
       "        if (attempts > 200) {\n",
       "          clearInterval(timer);\n",
       "          console.log(\"Bokeh: ERROR: Unable to run BokehJS code because BokehJS library is missing\");\n",
       "        }\n",
       "      }\n",
       "    }, 25, root)\n",
       "  }\n",
       "})(window);</script>"
      ],
      "text/plain": [
       "Row\n",
       "    [0] Column\n",
       "        [0] Markdown(str)\n",
       "        [1] TextInput()\n",
       "        [2] IntSlider(end=21, name='Window Size', start=1, value=6)\n",
       "    [1] ParamFunction(function)"
      ]
     },
     "execution_count": 50,
     "metadata": {
      "application/vnd.holoviews_exec.v0+json": {
       "id": "11682"
      }
     },
     "output_type": "execute_result"
    }
   ],
   "source": [
    "%matplotlib inline\n",
    "import quantstats as qs\n",
    "import yfinance as yf\n",
    "import panel as pn\n",
    "import pandas as pd\n",
    "import hvplot.pandas\n",
    "pn.extension()\n",
    "import plotly as px\n",
    "from pypfopt.expected_returns import mean_historical_return\n",
    "from pypfopt.risk_models import CovarianceShrinkage\n",
    "from pypfopt.efficient_frontier import EfficientFrontier\n",
    "from pypfopt import HRPOpt\n",
    "# extend pandas functionality with metrics, etc.\n",
    "qs.extend_pandas()\n",
    "window = pn.widgets.IntSlider(name='Window Size', value=6, start=1, end=21)\n",
    "title = 'Stock'\n",
    "ticker = pn.widgets.input.TextInput()\n",
    "# ticker.value = ''\n",
    "portfolio = None\n",
    "print(type(portfolio))\n",
    "init = 0\n",
    "# input ticker and view stock data\n",
    "\n",
    "def get_df(ticker, window_size):\n",
    "    df = yf.Ticker(ticker).history(period=\"5Y\")\n",
    "    df.reset_index(inplace=True)\n",
    "    global portfolio\n",
    "    if ticker is not '' and portfolio is None:\n",
    "        portfolio = df[['Date', 'Close']]\n",
    "        portfolio.rename(columns={'Close': ticker}, inplace=True)\n",
    "    elif ticker is not '':\n",
    "        portfolio = pd.concat([portfolio, df['Close']], join='inner', axis='columns')\n",
    "        portfolio.rename(columns={'Close': ticker}, inplace=True)\n",
    "    \n",
    "    return df.set_index('Date').rolling(window=window_size).mean().reset_index()\n",
    "def get_plot(ticker, window_size):\n",
    "    df = get_df(ticker, window_size)\n",
    "    return df.hvplot.line('Date', 'Close', grid=True, responsive=True, height=300)\n",
    "# can include additional plots/visualizations to add to the stock panel by creating additional get_plot functions similiar to the one above. \n",
    "\n",
    "pn.Row(\n",
    "    pn.Column(title, ticker, window),\n",
    "    pn.bind(get_plot, ticker, window)\n",
    ")\n",
    "\n",
    "\n",
    "\n"
   ]
  },
  {
   "cell_type": "code",
   "execution_count": 59,
   "id": "76d94cfd",
   "metadata": {},
   "outputs": [
    {
     "name": "stdout",
     "output_type": "stream",
     "text": [
      "index already set\n",
      "                  MSFT        AAPL         AMD         GME\n",
      "Date                                                      \n",
      "2017-02-10   59.505802         NaN   13.580000   20.867582\n",
      "2017-02-13   60.175243   31.185596   13.490000   20.631744\n",
      "2017-02-14   60.399742   31.461767   13.260000   20.932638\n",
      "2017-02-15   60.362335   31.870115   13.300000   20.965170\n",
      "2017-02-16   60.352974   31.985785   12.970000   20.672409\n",
      "...                ...         ...         ...         ...\n",
      "2022-02-03  301.250000  175.616257  120.080002   99.230003\n",
      "2022-02-04  305.940002  172.679993  123.599998  102.339996\n",
      "2022-02-07  300.950012  172.389999  123.669998  102.339996\n",
      "2022-02-08  304.559998  171.660004  128.229996  115.599998\n",
      "2022-02-09  311.209991  174.830002  132.850006  124.290001\n",
      "\n",
      "[1259 rows x 4 columns]\n",
      "Expected annual return: 42.3%\n",
      "Annual volatility: 19.1%\n",
      "Sharpe Ratio: 2.11\n",
      "index already set\n",
      "                  MSFT        AAPL         AMD         GME\n",
      "Date                                                      \n",
      "2017-02-10   59.505802         NaN   13.580000   20.867582\n",
      "2017-02-13   60.175243   31.185596   13.490000   20.631744\n",
      "2017-02-14   60.399742   31.461767   13.260000   20.932638\n",
      "2017-02-15   60.362335   31.870115   13.300000   20.965170\n",
      "2017-02-16   60.352974   31.985785   12.970000   20.672409\n",
      "...                ...         ...         ...         ...\n",
      "2022-02-03  301.250000  175.616257  120.080002   99.230003\n",
      "2022-02-04  305.940002  172.679993  123.599998  102.339996\n",
      "2022-02-07  300.950012  172.389999  123.669998  102.339996\n",
      "2022-02-08  304.559998  171.660004  128.229996  115.599998\n",
      "2022-02-09  311.209991  174.830002  132.850006  124.290001\n",
      "\n",
      "[1259 rows x 4 columns]\n",
      "Expected annual return: 42.3%\n",
      "Annual volatility: 19.1%\n",
      "Sharpe Ratio: 2.11\n"
     ]
    },
    {
     "ename": "NameError",
     "evalue": "name 'px' is not defined",
     "output_type": "error",
     "traceback": [
      "\u001b[1;31m---------------------------------------------------------------------------\u001b[0m",
      "\u001b[1;31mNameError\u001b[0m                                 Traceback (most recent call last)",
      "\u001b[1;32m~\\AppData\\Local\\Temp/ipykernel_24848/1563402946.py\u001b[0m in \u001b[0;36m<module>\u001b[1;34m\u001b[0m\n\u001b[0;32m     22\u001b[0m     \u001b[1;32mreturn\u001b[0m \u001b[0mpx\u001b[0m\u001b[1;33m.\u001b[0m\u001b[0mpie\u001b[0m\u001b[1;33m(\u001b[0m\u001b[0mdf\u001b[0m\u001b[1;33m)\u001b[0m\u001b[1;33m\u001b[0m\u001b[1;33m\u001b[0m\u001b[0m\n\u001b[0;32m     23\u001b[0m \u001b[0mget_portfolio_opt\u001b[0m\u001b[1;33m(\u001b[0m\u001b[0mportfolio\u001b[0m\u001b[1;33m,\u001b[0m \u001b[0mwindow\u001b[0m\u001b[1;33m)\u001b[0m\u001b[1;33m\u001b[0m\u001b[1;33m\u001b[0m\u001b[0m\n\u001b[1;32m---> 24\u001b[1;33m \u001b[0mget_pie_chart_portfolio\u001b[0m\u001b[1;33m(\u001b[0m\u001b[1;33m)\u001b[0m\u001b[1;33m\u001b[0m\u001b[1;33m\u001b[0m\u001b[0m\n\u001b[0m",
      "\u001b[1;32m~\\AppData\\Local\\Temp/ipykernel_24848/1563402946.py\u001b[0m in \u001b[0;36mget_pie_chart_portfolio\u001b[1;34m()\u001b[0m\n\u001b[0;32m     20\u001b[0m     \u001b[0mdf\u001b[0m \u001b[1;33m=\u001b[0m \u001b[0mpd\u001b[0m\u001b[1;33m.\u001b[0m\u001b[0mDataFrame\u001b[0m\u001b[1;33m(\u001b[0m\u001b[0mzip\u001b[0m\u001b[1;33m(\u001b[0m\u001b[0mtickers\u001b[0m\u001b[1;33m,\u001b[0m \u001b[0mweights\u001b[0m\u001b[1;33m)\u001b[0m\u001b[1;33m)\u001b[0m\u001b[1;33m\u001b[0m\u001b[1;33m\u001b[0m\u001b[0m\n\u001b[0;32m     21\u001b[0m \u001b[1;33m\u001b[0m\u001b[0m\n\u001b[1;32m---> 22\u001b[1;33m     \u001b[1;32mreturn\u001b[0m \u001b[0mpx\u001b[0m\u001b[1;33m.\u001b[0m\u001b[0mpie\u001b[0m\u001b[1;33m(\u001b[0m\u001b[0mdf\u001b[0m\u001b[1;33m)\u001b[0m\u001b[1;33m\u001b[0m\u001b[1;33m\u001b[0m\u001b[0m\n\u001b[0m\u001b[0;32m     23\u001b[0m \u001b[0mget_portfolio_opt\u001b[0m\u001b[1;33m(\u001b[0m\u001b[0mportfolio\u001b[0m\u001b[1;33m,\u001b[0m \u001b[0mwindow\u001b[0m\u001b[1;33m)\u001b[0m\u001b[1;33m\u001b[0m\u001b[1;33m\u001b[0m\u001b[0m\n\u001b[0;32m     24\u001b[0m \u001b[0mget_pie_chart_portfolio\u001b[0m\u001b[1;33m(\u001b[0m\u001b[1;33m)\u001b[0m\u001b[1;33m\u001b[0m\u001b[1;33m\u001b[0m\u001b[0m\n",
      "\u001b[1;31mNameError\u001b[0m: name 'px' is not defined"
     ]
    }
   ],
   "source": [
    "# create portfolio analysis\n",
    "def get_portfolio_opt(portfolio, window_size):\n",
    "#     portfolio.sort_index(ascending=False, inplace=True)\n",
    "    try:\n",
    "        portfolio.set_index(keys='Date', inplace=True)\n",
    "    except:\n",
    "        print('index already set')\n",
    "    print(portfolio)\n",
    "    returns = portfolio.pct_change().dropna()\n",
    "    hrp = HRPOpt(returns)\n",
    "    hrp_weights = hrp.optimize()\n",
    "    performance = hrp.portfolio_performance(verbose=True)\n",
    "    return hrp\n",
    "\n",
    "def get_pie_chart_portfolio():\n",
    "    hrp = get_portfolio_opt(portfolio, window)\n",
    "    hrp_weights = hrp.optimize()\n",
    "    tickers = [i[0] for i in hrp_weights]\n",
    "    weights = [i[1] for i in hrp_weights]\n",
    "    df = pd.DataFrame(zip(tickers, weights))\n",
    "    \n",
    "    return px.pie(df)\n",
    "get_portfolio_opt(portfolio, window)\n",
    "get_pie_chart_portfolio()"
   ]
  },
  {
   "cell_type": "code",
   "execution_count": null,
   "id": "6ad6159d",
   "metadata": {},
   "outputs": [],
   "source": []
  }
 ],
 "metadata": {
  "kernelspec": {
   "display_name": "Python [conda env:pyvizenv] *",
   "language": "python",
   "name": "conda-env-pyvizenv-py"
  },
  "language_info": {
   "codemirror_mode": {
    "name": "ipython",
    "version": 3
   },
   "file_extension": ".py",
   "mimetype": "text/x-python",
   "name": "python",
   "nbconvert_exporter": "python",
   "pygments_lexer": "ipython3",
   "version": "3.7.11"
  }
 },
 "nbformat": 4,
 "nbformat_minor": 5
}
