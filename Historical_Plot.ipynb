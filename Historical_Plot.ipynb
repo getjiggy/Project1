{
 "cells": [
  {
   "cell_type": "code",
   "execution_count": 22,
   "id": "756f3371",
   "metadata": {},
   "outputs": [],
   "source": [
    "import yfinance as yf\n",
    "import pandas as pd\n",
    "import matplotlib.pyplot as plt"
   ]
  },
  {
   "cell_type": "code",
   "execution_count": 23,
   "id": "e3258ab5",
   "metadata": {},
   "outputs": [],
   "source": [
    "msft = yf.Ticker(\"MSFT\")"
   ]
  },
  {
   "cell_type": "code",
   "execution_count": 39,
   "id": "75874818",
   "metadata": {},
   "outputs": [],
   "source": [
    "df = msft.history(period=\"5y\")"
   ]
  },
  {
   "cell_type": "code",
   "execution_count": 40,
   "id": "099c4103",
   "metadata": {},
   "outputs": [
    {
     "name": "stdout",
     "output_type": "stream",
     "text": [
      "                  Open        High         Low       Close    Volume  \\\n",
      "Date                                                                   \n",
      "2017-02-10   59.738235   59.784727   59.487195   59.505791  18170700   \n",
      "2017-02-13   59.728943   60.305408   59.626667   60.175240  22920100   \n",
      "2017-02-14   60.250079   60.540056   59.885261   60.399742  23108400   \n",
      "2017-02-15   60.334266   60.399745   60.016229   60.362328  17005200   \n",
      "2017-02-16   60.558759   61.026466   60.278139   60.352966  20546300   \n",
      "...                ...         ...         ...         ...       ...   \n",
      "2022-02-03  309.489990  311.230011  299.959991  301.250000  43730000   \n",
      "2022-02-04  300.209991  308.799988  299.970001  305.940002  35070300   \n",
      "2022-02-07  306.170013  307.839996  299.899994  300.950012  28533300   \n",
      "2022-02-08  301.250000  305.559998  299.950012  304.559998  32421200   \n",
      "2022-02-09  309.869995  311.929993  307.390015  311.209991  31258000   \n",
      "\n",
      "            Dividends  Stock Splits  \n",
      "Date                                 \n",
      "2017-02-10       0.00             0  \n",
      "2017-02-13       0.00             0  \n",
      "2017-02-14       0.39             0  \n",
      "2017-02-15       0.00             0  \n",
      "2017-02-16       0.00             0  \n",
      "...               ...           ...  \n",
      "2022-02-03       0.00             0  \n",
      "2022-02-04       0.00             0  \n",
      "2022-02-07       0.00             0  \n",
      "2022-02-08       0.00             0  \n",
      "2022-02-09       0.00             0  \n",
      "\n",
      "[1259 rows x 7 columns]\n"
     ]
    }
   ],
   "source": [
    "print(df)"
   ]
  },
  {
   "cell_type": "code",
   "execution_count": 41,
   "id": "caaac2c4",
   "metadata": {},
   "outputs": [
    {
     "data": {
      "text/plain": [
       "[<matplotlib.lines.Line2D at 0x211bdb7e908>]"
      ]
     },
     "execution_count": 41,
     "metadata": {},
     "output_type": "execute_result"
    },
    {
     "data": {
      "image/png": "[encoded data removed]",
      "text/plain": [
       "<Figure size 432x288 with 1 Axes>"
      ]
     },
     "metadata": {
      "needs_background": "light"
     },
     "output_type": "display_data"
    }
   ],
   "source": [
    "plt.plot(df['Close'])"
   ]
  },
  {
   "cell_type": "code",
   "execution_count": 43,
   "id": "b6e2f75c",
   "metadata": {},
   "outputs": [
    {
     "name": "stdout",
     "output_type": "stream",
     "text": [
      "         Date  Dividends  Year\n",
      "0  2003-12-31       0.24  2003\n",
      "1  2004-12-31       3.16  2004\n",
      "2  2005-12-31       0.32  2005\n",
      "3  2006-12-31       0.37  2006\n",
      "4  2007-12-31       0.41  2007\n",
      "5  2008-12-31       0.46  2008\n",
      "6  2009-12-31       0.52  2009\n",
      "7  2010-12-31       0.55  2010\n",
      "8  2011-12-31       0.68  2011\n",
      "9  2012-12-31       0.83  2012\n",
      "10 2013-12-31       0.97  2013\n",
      "11 2014-12-31       1.15  2014\n",
      "12 2015-12-31       1.29  2015\n",
      "13 2016-12-31       1.47  2016\n",
      "14 2017-12-31       1.59  2017\n",
      "15 2018-12-31       1.72  2018\n",
      "16 2019-12-31       1.89  2019\n",
      "17 2020-12-31       2.09  2020\n",
      "18 2021-12-31       2.30  2021\n"
     ]
    },
    {
     "data": {
      "image/png": "[encoded data removed]",
      "text/plain": [
       "<Figure size 432x288 with 1 Axes>"
      ]
     },
     "metadata": {
      "needs_background": "light"
     },
     "output_type": "display_data"
    }
   ],
   "source": [
    "df2 = msft.history('max')\n",
    "df2 = msft.dividends\n",
    "data = df2.resample('Y').sum()\n",
    "data = data.reset_index()\n",
    "data['Year'] = data['Date'].dt.year\n",
    "plt.bar(data['Year'], data['Dividends'])\n",
    "print(data)"
   ]
  },
  {
   "cell_type": "code",
   "execution_count": null,
   "id": "283d8f84",
   "metadata": {},
   "outputs": [],
   "source": []
  },
  {
   "cell_type": "code",
   "execution_count": null,
   "id": "fb8cf2dc",
   "metadata": {},
   "outputs": [],
   "source": []
  }
 ],
 "metadata": {
  "kernelspec": {
   "display_name": "Python 3 (ipykernel)",
   "language": "python",
   "name": "python3"
  },
  "language_info": {
   "codemirror_mode": {
    "name": "ipython",
    "version": 3
   },
   "file_extension": ".py",
   "mimetype": "text/x-python",
   "name": "python",
   "nbconvert_exporter": "python",
   "pygments_lexer": "ipython3",
   "version": "3.7.11"
  }
 },
 "nbformat": 4,
 "nbformat_minor": 5
}
